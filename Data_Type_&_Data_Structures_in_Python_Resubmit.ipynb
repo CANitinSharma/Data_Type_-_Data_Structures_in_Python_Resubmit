{
  "nbformat": 4,
  "nbformat_minor": 0,
  "metadata": {
    "colab": {
      "provenance": []
    },
    "kernelspec": {
      "name": "python3",
      "display_name": "Python 3"
    },
    "language_info": {
      "name": "python"
    }
  },
  "cells": [
    {
      "cell_type": "code",
      "execution_count": null,
      "metadata": {
        "id": "kFZQq1R1naEN"
      },
      "outputs": [],
      "source": [
        "#Theroretical Questions"
      ]
    },
    {
      "cell_type": "code",
      "source": [
        "##Question 1:- What are data structures, and why are they important?\n",
        "#Answer 1:- Data structure is a way of organizing data so that data can be stored effectively and can be manipulated easily."
      ],
      "metadata": {
        "id": "Dax4nktWniB6"
      },
      "execution_count": null,
      "outputs": []
    },
    {
      "cell_type": "code",
      "source": [
        "##Question 2:- Explain the difference between mutable and immutable data types with examples ?\n",
        "\n",
        "#Answer 2:- Mutable Data structures are those that can be edited by way of add, remove or the values of those can be changed e.g. lists, Sets whereas immutable data structes can not be edited as above e.g tuples"
      ],
      "metadata": {
        "id": "eExLOnIanp_9"
      },
      "execution_count": null,
      "outputs": []
    },
    {
      "cell_type": "code",
      "source": [
        "##Ques 3:- What are the main differences between lists and tuples in Python ?\n",
        "\n",
        "#Answer 3:- Lists are muttable while tuples are not."
      ],
      "metadata": {
        "id": "6qKfgLGonzWx"
      },
      "execution_count": null,
      "outputs": []
    },
    {
      "cell_type": "code",
      "source": [
        "##Ques 4:- Describe how dictionaries store data.\n",
        "\n",
        "#Ans 4:- Dictionary stores data in the format of \"Key:Value\" for every key assigned there should be a value."
      ],
      "metadata": {
        "id": "AWIc9MKSnzTn"
      },
      "execution_count": null,
      "outputs": []
    },
    {
      "cell_type": "code",
      "source": [
        "##Ques 5:- Why might you use a set instead of a list in Python ?\n",
        "\n",
        "#Ans 5:- Sets remove the duplicate data and also support mathematical functions such as union, intersection e.t.c However, the usage of both depends on case to case and as per user requirements.\n"
      ],
      "metadata": {
        "id": "_WPBgzWSnzQ5"
      },
      "execution_count": null,
      "outputs": []
    },
    {
      "cell_type": "code",
      "source": [
        "##Ques 7:-  How do tuples ensure data integrity in Python?\n",
        "\n",
        "#Ans 7:-  Since tuples are immutable, It's not possible to change the data stored in tuples easily."
      ],
      "metadata": {
        "id": "gdMOrj22nzOF"
      },
      "execution_count": null,
      "outputs": []
    },
    {
      "cell_type": "code",
      "source": [
        "##Ques 9:- Can lists contain different data types in Python?\n",
        "\n",
        "#Ans 9:- Yes, a list is hetrogeneos data structure and can store different data types."
      ],
      "metadata": {
        "id": "ICO4Ja0dnzLT"
      },
      "execution_count": null,
      "outputs": []
    },
    {
      "cell_type": "code",
      "source": [
        "##Ques 11:-  What advantages do dictionaries offer over lists for certain tasks ?\n",
        "\n",
        "#Ans 11:- Faster lookup of values & storing data in key & value format."
      ],
      "metadata": {
        "id": "GVcY68JmnzIr"
      },
      "execution_count": null,
      "outputs": []
    },
    {
      "cell_type": "code",
      "source": [
        "##Ques 13:-  How do sets handle duplicate values in Python ?\n",
        "\n",
        "#Ans 13:- Set removes the subsequent occurance of the value."
      ],
      "metadata": {
        "id": "EUFIrmOonzF2"
      },
      "execution_count": null,
      "outputs": []
    },
    {
      "cell_type": "code",
      "source": [
        "##Ques 14 :- How does the “in” keyword work differently for lists and dictionaries.\n",
        "\n",
        "#Ans 14:- in function works in dictionary only if the value is present in form of Key. Whereas it will return true if the value is  present anywhere in case of a list"
      ],
      "metadata": {
        "id": "pA5TQAzLnzC2"
      },
      "execution_count": null,
      "outputs": []
    },
    {
      "cell_type": "code",
      "source": [
        "##Ques 15 :- Can you modify the elements of a tuple? Explain why or why not ?\n",
        "\n",
        "#Ans 15:- Since tuples are immutable is elements cannot be modified."
      ],
      "metadata": {
        "id": "puP-w4EZnzAE"
      },
      "execution_count": null,
      "outputs": []
    },
    {
      "cell_type": "code",
      "source": [
        "##Ques 16:-  What is a nested dictionary, and give an example of its use case\n",
        "\n",
        "#Ans 16 :- A nested dictionary is a dictionary inside another dictionary. It allows you to store hierarchical or structured data, where each key maps to another dictionary as its value.\n",
        "#students = {\"101\": {\"name\": \"Nitin\", \"age\": 22, \"marks\": 85},\"102\": {\"name\": \"Asha\", \"age\": 21, \"marks\": 90}}\n",
        "\n",
        "#Here, each student ID (\"101\", \"102\") maps to another dictionary containing that student's details."
      ],
      "metadata": {
        "id": "V0q22rV-ny9R"
      },
      "execution_count": null,
      "outputs": []
    },
    {
      "cell_type": "code",
      "source": [
        "##Ques 19 :- Why are dictionaries considered unordered, and how does that affect data retrieval.\n",
        "\n",
        "#Ans 19:- Dictionaries were considered unordered in earlier versions of Python i.e before 3.7 version."
      ],
      "metadata": {
        "id": "Draelq-Eny6Y"
      },
      "execution_count": null,
      "outputs": []
    },
    {
      "cell_type": "code",
      "source": [
        "#Practical Questions"
      ],
      "metadata": {
        "id": "YR4PT4fjny3a"
      },
      "execution_count": null,
      "outputs": []
    },
    {
      "cell_type": "code",
      "source": [
        "#Ques 1:- Write a code to create a string with your name and print it ?\n",
        "\n",
        "Name=\"Nitin\"\n",
        "print(Name)"
      ],
      "metadata": {
        "colab": {
          "base_uri": "https://localhost:8080/"
        },
        "id": "CbTGawjnny0E",
        "outputId": "a915df96-522e-4ed5-df4e-1ab57d0172bc"
      },
      "execution_count": 1,
      "outputs": [
        {
          "output_type": "stream",
          "name": "stdout",
          "text": [
            "Nitin\n"
          ]
        }
      ]
    },
    {
      "cell_type": "code",
      "source": [
        "#Ques 2:- Write a code to find the length of the string \"Hello World\".\n",
        "\n",
        "text=\"Hello World\"\n",
        "len(text)"
      ],
      "metadata": {
        "colab": {
          "base_uri": "https://localhost:8080/"
        },
        "id": "5dq8q4HXnyw8",
        "outputId": "28a67687-c859-4eba-8ea5-80b3e54df4c0"
      },
      "execution_count": 2,
      "outputs": [
        {
          "output_type": "execute_result",
          "data": {
            "text/plain": [
              "11"
            ]
          },
          "metadata": {},
          "execution_count": 2
        }
      ]
    },
    {
      "cell_type": "code",
      "source": [
        "#Ques 3:- Write a code to slice the first 3 characters from the string \"Python Programming\".\n",
        "\n",
        "text2=\"Python Programming\"\n",
        "text2[:3:]"
      ],
      "metadata": {
        "colab": {
          "base_uri": "https://localhost:8080/",
          "height": 35
        },
        "id": "8F5Jrhbknyte",
        "outputId": "3c887e9e-40b5-4bcc-ef32-e5d4fd93231f"
      },
      "execution_count": 3,
      "outputs": [
        {
          "output_type": "execute_result",
          "data": {
            "text/plain": [
              "'Pyt'"
            ],
            "application/vnd.google.colaboratory.intrinsic+json": {
              "type": "string"
            }
          },
          "metadata": {},
          "execution_count": 3
        }
      ]
    },
    {
      "cell_type": "code",
      "source": [
        "#Ques 4:- Write a code to convert the string \"hello\" to uppercase.\n",
        "\n",
        "str1=\"hello\"\n",
        "str1.upper()"
      ],
      "metadata": {
        "colab": {
          "base_uri": "https://localhost:8080/",
          "height": 35
        },
        "id": "o-uDoAFdnyqJ",
        "outputId": "c86a8bdd-0eb2-41de-ebe3-12908a99c5f9"
      },
      "execution_count": 4,
      "outputs": [
        {
          "output_type": "execute_result",
          "data": {
            "text/plain": [
              "'HELLO'"
            ],
            "application/vnd.google.colaboratory.intrinsic+json": {
              "type": "string"
            }
          },
          "metadata": {},
          "execution_count": 4
        }
      ]
    },
    {
      "cell_type": "code",
      "source": [
        "#Ques 5:- Write a code to replace the word \"apple\" with \"orange\" in the string \"I like apple\"\n",
        "str2= \"I Like apple\"\n",
        "str3=str2.replace(\"apple\",\"Orange\")\n",
        "print(str3)\n"
      ],
      "metadata": {
        "colab": {
          "base_uri": "https://localhost:8080/"
        },
        "id": "_79_vfHinyjV",
        "outputId": "d8326250-03a2-437b-d688-83ce1ef057a0"
      },
      "execution_count": 5,
      "outputs": [
        {
          "output_type": "stream",
          "name": "stdout",
          "text": [
            "I Like Orange\n"
          ]
        }
      ]
    },
    {
      "cell_type": "code",
      "source": [
        "#Ques 6:-  Write a code to create a list with numbers 1 to 5 and print it.\n",
        "Num=[1,2,3,4,5]\n",
        "print(Num)"
      ],
      "metadata": {
        "colab": {
          "base_uri": "https://localhost:8080/"
        },
        "id": "kmp8sSdynyYJ",
        "outputId": "5eb322ce-43e1-4c15-8bc5-9fb9f1e9b509"
      },
      "execution_count": 6,
      "outputs": [
        {
          "output_type": "stream",
          "name": "stdout",
          "text": [
            "[1, 2, 3, 4, 5]\n"
          ]
        }
      ]
    },
    {
      "cell_type": "code",
      "source": [
        "#Ques 7:-  Write a code to append the number 10 to the list [1, 2, 3, 4].\n",
        "num=[1,2,3,4]\n",
        "num.append(10)\n",
        "print(num)"
      ],
      "metadata": {
        "colab": {
          "base_uri": "https://localhost:8080/"
        },
        "id": "b45R8w0zpF0C",
        "outputId": "b6aad93a-001b-4d04-82f1-3ff566375b6f"
      },
      "execution_count": 7,
      "outputs": [
        {
          "output_type": "stream",
          "name": "stdout",
          "text": [
            "[1, 2, 3, 4, 10]\n"
          ]
        }
      ]
    },
    {
      "cell_type": "code",
      "source": [
        "#Ques 8:-  Write a code to remove the number 3 from the list [1, 2, 3, 4, 5]\n",
        "num2=[1, 2, 3, 4, 5]\n",
        "num2.remove(3)\n",
        "print(num2)"
      ],
      "metadata": {
        "colab": {
          "base_uri": "https://localhost:8080/"
        },
        "id": "4tqbBI-ypFw6",
        "outputId": "d9500be6-1085-4d53-ad3e-4b85f32a8831"
      },
      "execution_count": 8,
      "outputs": [
        {
          "output_type": "stream",
          "name": "stdout",
          "text": [
            "[1, 2, 4, 5]\n"
          ]
        }
      ]
    },
    {
      "cell_type": "code",
      "source": [
        "#Ques 9 :- Write a code to access the second element in the list ['a', 'b', 'c', 'd']\n",
        "\n",
        "alpha=['a', 'b', 'c', 'd']\n",
        "alpha[1]"
      ],
      "metadata": {
        "colab": {
          "base_uri": "https://localhost:8080/",
          "height": 35
        },
        "id": "J0QyrXK1pFru",
        "outputId": "a6164f58-e667-43b1-a95d-0f236c402d91"
      },
      "execution_count": 9,
      "outputs": [
        {
          "output_type": "execute_result",
          "data": {
            "text/plain": [
              "'b'"
            ],
            "application/vnd.google.colaboratory.intrinsic+json": {
              "type": "string"
            }
          },
          "metadata": {},
          "execution_count": 9
        }
      ]
    },
    {
      "cell_type": "code",
      "source": [
        "#Ques 10:-  Write a code to reverse the list [10, 20, 30, 40, 50].\n",
        "\n",
        "lst1=[10, 20, 30, 40, 50]\n",
        "lst1[::-1]"
      ],
      "metadata": {
        "colab": {
          "base_uri": "https://localhost:8080/"
        },
        "id": "G9eLl8t2pFpH",
        "outputId": "f99edf0c-2d45-4582-965d-024e9cf9d727"
      },
      "execution_count": 10,
      "outputs": [
        {
          "output_type": "execute_result",
          "data": {
            "text/plain": [
              "[50, 40, 30, 20, 10]"
            ]
          },
          "metadata": {},
          "execution_count": 10
        }
      ]
    },
    {
      "cell_type": "code",
      "source": [
        "#Ques 11:- Write a code to create a tuple with the elements 100, 200, 300 and print it.\n",
        "t1=(100,200,300)\n",
        "print(t1)"
      ],
      "metadata": {
        "colab": {
          "base_uri": "https://localhost:8080/"
        },
        "id": "vUE5OxVlpFmj",
        "outputId": "31460d12-8ae7-44ff-9523-406c4d0196f2"
      },
      "execution_count": 11,
      "outputs": [
        {
          "output_type": "stream",
          "name": "stdout",
          "text": [
            "(100, 200, 300)\n"
          ]
        }
      ]
    },
    {
      "cell_type": "code",
      "source": [
        "#Ques 12:- Write a code to access the second-to-last element of the tuple ('red', 'green', 'blue', 'yellow').\n",
        "colors=('red', 'green', 'blue', 'yellow')\n",
        "colors[-2]\n"
      ],
      "metadata": {
        "colab": {
          "base_uri": "https://localhost:8080/",
          "height": 35
        },
        "id": "_XUAwT99pFj1",
        "outputId": "661af0ae-925c-49e4-8b5d-1b20ce23c125"
      },
      "execution_count": 12,
      "outputs": [
        {
          "output_type": "execute_result",
          "data": {
            "text/plain": [
              "'blue'"
            ],
            "application/vnd.google.colaboratory.intrinsic+json": {
              "type": "string"
            }
          },
          "metadata": {},
          "execution_count": 12
        }
      ]
    },
    {
      "cell_type": "code",
      "source": [
        "#Ques 13:- Write a code to find the minimum number in the tuple (10, 20, 5, 15).\n",
        "\n",
        "t2=(10, 20, 5, 15)\n",
        "min(t2)"
      ],
      "metadata": {
        "colab": {
          "base_uri": "https://localhost:8080/"
        },
        "id": "dZrfRZiNpFhD",
        "outputId": "f1a00c49-e002-41f1-aba0-2d5e2e85184e"
      },
      "execution_count": 13,
      "outputs": [
        {
          "output_type": "execute_result",
          "data": {
            "text/plain": [
              "5"
            ]
          },
          "metadata": {},
          "execution_count": 13
        }
      ]
    },
    {
      "cell_type": "code",
      "source": [
        "#Ques 14 :- Write a code to find the index of the element \"cat\" in the tuple ('dog', 'cat', 'rabbit')\n",
        "animal=('dog', 'cat', 'rabbit')\n",
        "animal.index(\"cat\")"
      ],
      "metadata": {
        "colab": {
          "base_uri": "https://localhost:8080/"
        },
        "id": "wZTkoy7JpFeM",
        "outputId": "e24be968-ffa0-4307-ef2a-39341a85c2a6"
      },
      "execution_count": 14,
      "outputs": [
        {
          "output_type": "execute_result",
          "data": {
            "text/plain": [
              "1"
            ]
          },
          "metadata": {},
          "execution_count": 14
        }
      ]
    },
    {
      "cell_type": "code",
      "source": [
        "#Ques 15:-  Write a code to create a tuple containing three different fruits and check if \"kiwi\" is in it.\n",
        "\n",
        "t3=(\"Apple\", \"Orange\", \"Kiwi\")\n",
        "\"Kiwi\" in t3"
      ],
      "metadata": {
        "colab": {
          "base_uri": "https://localhost:8080/"
        },
        "id": "ntT87kT2pFbb",
        "outputId": "50fa4b78-be0e-4d1c-811b-0819b44589e4"
      },
      "execution_count": 15,
      "outputs": [
        {
          "output_type": "execute_result",
          "data": {
            "text/plain": [
              "True"
            ]
          },
          "metadata": {},
          "execution_count": 15
        }
      ]
    },
    {
      "cell_type": "code",
      "source": [
        "#Ques 16:- Write a code to create a set with the elements 'a', 'b', 'c' and print it.\n",
        "\n",
        "s1={\"a\",\"b\",\"c\"}\n",
        "print(s1)"
      ],
      "metadata": {
        "colab": {
          "base_uri": "https://localhost:8080/"
        },
        "id": "JLczrb2ipFY0",
        "outputId": "2dd1e139-d06c-498f-c8b0-22d0d035cbc1"
      },
      "execution_count": 16,
      "outputs": [
        {
          "output_type": "stream",
          "name": "stdout",
          "text": [
            "{'a', 'b', 'c'}\n"
          ]
        }
      ]
    },
    {
      "cell_type": "code",
      "source": [
        "#Ques 17:- Write a code to clear all elements from the set {1, 2, 3, 4, 5}.\n",
        "\n",
        "s2={1, 2, 3, 4, 5}\n",
        "s2.clear()\n",
        "print(s2)"
      ],
      "metadata": {
        "colab": {
          "base_uri": "https://localhost:8080/"
        },
        "id": "j6n40EdJpFV2",
        "outputId": "25ac3d6d-0cdd-4e62-9084-4cf003fb65a1"
      },
      "execution_count": 17,
      "outputs": [
        {
          "output_type": "stream",
          "name": "stdout",
          "text": [
            "set()\n"
          ]
        }
      ]
    },
    {
      "cell_type": "code",
      "source": [
        "#Ques 18:- Write a code to remove the element 4 from the set {1, 2, 3, 4}.\n",
        "\n",
        "s3={1, 2, 3, 4}\n",
        "s3.remove(4)\n",
        "s3"
      ],
      "metadata": {
        "colab": {
          "base_uri": "https://localhost:8080/"
        },
        "id": "KqbfeqtepFS8",
        "outputId": "fb3ef1dd-8c0a-4c6a-cd4b-4d524b23ac86"
      },
      "execution_count": 18,
      "outputs": [
        {
          "output_type": "execute_result",
          "data": {
            "text/plain": [
              "{1, 2, 3}"
            ]
          },
          "metadata": {},
          "execution_count": 18
        }
      ]
    },
    {
      "cell_type": "code",
      "source": [
        "#Ques 19:- Write a code to find the union of two sets {1, 2, 3} and {3, 4, 5}.\n",
        "s4={1, 2, 3}\n",
        "s5={3, 4, 5}\n",
        "s4|s5"
      ],
      "metadata": {
        "colab": {
          "base_uri": "https://localhost:8080/"
        },
        "id": "OsGbBXnWpFQX",
        "outputId": "482f67ab-c2d3-4389-d755-a1d3b6b650a9"
      },
      "execution_count": 19,
      "outputs": [
        {
          "output_type": "execute_result",
          "data": {
            "text/plain": [
              "{1, 2, 3, 4, 5}"
            ]
          },
          "metadata": {},
          "execution_count": 19
        }
      ]
    },
    {
      "cell_type": "code",
      "source": [
        "#Ques 20:-  Write a code to find the intersection of two sets {1, 2, 3} and {2, 3, 4}.\n",
        "\n",
        "s6={1, 2, 3}\n",
        "s7={2, 3, 4}\n",
        "s6&s7"
      ],
      "metadata": {
        "colab": {
          "base_uri": "https://localhost:8080/"
        },
        "id": "0LPMtroxpFNi",
        "outputId": "4bd391c9-bc60-4ec4-a87d-625fb2a92843"
      },
      "execution_count": 20,
      "outputs": [
        {
          "output_type": "execute_result",
          "data": {
            "text/plain": [
              "{2, 3}"
            ]
          },
          "metadata": {},
          "execution_count": 20
        }
      ]
    },
    {
      "cell_type": "code",
      "source": [
        "#Ques 21:- Write a code to create a dictionary with the keys \"name\", \"age\", and \"city\", and print it.\n",
        "\n",
        "dict1={\"name\":\"Nitin\", \"age\":29, \"city\":\"Noida\"}\n",
        "print(dict1)"
      ],
      "metadata": {
        "colab": {
          "base_uri": "https://localhost:8080/"
        },
        "id": "eilPnyzUpFKe",
        "outputId": "96ff4a24-7ae2-48a1-96f6-ae1372de2ae9"
      },
      "execution_count": 21,
      "outputs": [
        {
          "output_type": "stream",
          "name": "stdout",
          "text": [
            "{'name': 'Nitin', 'age': 29, 'city': 'Noida'}\n"
          ]
        }
      ]
    },
    {
      "cell_type": "code",
      "source": [
        "#Ques 22:- Write a code to add a new key-value pair \"country\": \"USA\" to the dictionary {'name': 'John', 'age': 25}.\n",
        "\n",
        "dict2={'name': 'John', 'age': 25}\n",
        "dict2.update({\"country\":\"USA\"})\n",
        "print(dict2)"
      ],
      "metadata": {
        "colab": {
          "base_uri": "https://localhost:8080/"
        },
        "id": "tBixrJTMpFHv",
        "outputId": "480d6102-d28d-4f22-b0f8-00d12917a95c"
      },
      "execution_count": 22,
      "outputs": [
        {
          "output_type": "stream",
          "name": "stdout",
          "text": [
            "{'name': 'John', 'age': 25, 'country': 'USA'}\n"
          ]
        }
      ]
    },
    {
      "cell_type": "code",
      "source": [
        "#Ques 23:- Write a code to access the value associated with the key \"name\" in the dictionary {'name': 'Alice', 'age': 30}.\n",
        "dict3={'name': 'Alice', 'age': 30}\n",
        "dict3[\"name\"]"
      ],
      "metadata": {
        "colab": {
          "base_uri": "https://localhost:8080/",
          "height": 35
        },
        "id": "e0nXC_qEpFE5",
        "outputId": "85435c3a-dc83-41a0-b67f-a590ee3908b0"
      },
      "execution_count": 23,
      "outputs": [
        {
          "output_type": "execute_result",
          "data": {
            "text/plain": [
              "'Alice'"
            ],
            "application/vnd.google.colaboratory.intrinsic+json": {
              "type": "string"
            }
          },
          "metadata": {},
          "execution_count": 23
        }
      ]
    },
    {
      "cell_type": "code",
      "source": [
        "#Ques 24:- . Write a code to remove the key \"age\" from the dictionary {'name': 'Bob', 'age': 22, 'city': 'New York'}.\n",
        "dict4={'name': 'Bob', 'age': 22, 'city': 'New York'}\n",
        "dict4.pop('age')\n",
        "print(dict4)"
      ],
      "metadata": {
        "colab": {
          "base_uri": "https://localhost:8080/"
        },
        "id": "XwkoNJ2NpFB1",
        "outputId": "63e2e1d2-85aa-4a87-b2cd-79fe9dcb69b5"
      },
      "execution_count": 24,
      "outputs": [
        {
          "output_type": "stream",
          "name": "stdout",
          "text": [
            "{'name': 'Bob', 'city': 'New York'}\n"
          ]
        }
      ]
    },
    {
      "cell_type": "code",
      "source": [
        "#Ques 25:-  Write a code to check if the key \"city\" exists in the dictionary {'name': 'Alice', 'city': 'Paris'}.\n",
        "\n",
        "dict5= {'name': 'Alice', 'city': 'Paris'}\n",
        "\"city\" in dict5"
      ],
      "metadata": {
        "colab": {
          "base_uri": "https://localhost:8080/"
        },
        "id": "cWYa_MTCpE3C",
        "outputId": "47ec416c-6793-4e2e-9e58-9a44fcf2e8d1"
      },
      "execution_count": 25,
      "outputs": [
        {
          "output_type": "execute_result",
          "data": {
            "text/plain": [
              "True"
            ]
          },
          "metadata": {},
          "execution_count": 25
        }
      ]
    },
    {
      "cell_type": "code",
      "source": [
        "#Ques 26:-  Write a code to create a list, a tuple, and a dictionary, and print them all.\n",
        "l1=[1,2,3]\n",
        "t4=(4,5,6)\n",
        "d1={\"A\":7,\"B\":8,\"C\":9}\n",
        "print(l1,t4,d1)"
      ],
      "metadata": {
        "colab": {
          "base_uri": "https://localhost:8080/"
        },
        "id": "7PalsLKCpgB4",
        "outputId": "0970050d-dffc-4aff-83a4-646af9b9b0c4"
      },
      "execution_count": 26,
      "outputs": [
        {
          "output_type": "stream",
          "name": "stdout",
          "text": [
            "[1, 2, 3] (4, 5, 6) {'A': 7, 'B': 8, 'C': 9}\n"
          ]
        }
      ]
    },
    {
      "cell_type": "code",
      "source": [
        "#Ques 27:- Write a code to create a list of 5 random numbers between 1 and 100, sort it in ascending order, and print the result.(replaced)\n",
        "a=[10,34,56,23,45]\n",
        "print(sorted(a))"
      ],
      "metadata": {
        "colab": {
          "base_uri": "https://localhost:8080/"
        },
        "id": "KVY2JdKSphqg",
        "outputId": "c181ac30-e954-4d0d-81fd-49b078d25569"
      },
      "execution_count": 27,
      "outputs": [
        {
          "output_type": "stream",
          "name": "stdout",
          "text": [
            "[10, 23, 34, 45, 56]\n"
          ]
        }
      ]
    },
    {
      "cell_type": "code",
      "source": [
        "#Ques 28:-  Write a code to create a list with strings and print the element at the third index.\n",
        "l2=[\"Nitin\",\"PW SKILLS\",\"DATA ANALYTICS\",\"DATA SCIENCE\"]\n",
        "l2[3]"
      ],
      "metadata": {
        "colab": {
          "base_uri": "https://localhost:8080/",
          "height": 35
        },
        "id": "ig5ybOqrpi70",
        "outputId": "7f7ab4aa-d2fd-40ea-e470-917932b07f58"
      },
      "execution_count": 28,
      "outputs": [
        {
          "output_type": "execute_result",
          "data": {
            "text/plain": [
              "'DATA SCIENCE'"
            ],
            "application/vnd.google.colaboratory.intrinsic+json": {
              "type": "string"
            }
          },
          "metadata": {},
          "execution_count": 28
        }
      ]
    },
    {
      "cell_type": "code",
      "source": [
        "#Ques 29:-  Write a code to combine two dictionaries into one and print the result.\n",
        "d2={\"Name\":\"Nitin\",\"Age\":29}\n",
        "d3={\"City\":\"Jamnagar\",\"Country\":\"Sri Lanka\"}\n",
        "d2.update(d3)\n",
        "print(d2)"
      ],
      "metadata": {
        "colab": {
          "base_uri": "https://localhost:8080/"
        },
        "id": "NrVRwWpupkDf",
        "outputId": "463c458a-eeb1-4b94-c5aa-8d4b40c42232"
      },
      "execution_count": 29,
      "outputs": [
        {
          "output_type": "stream",
          "name": "stdout",
          "text": [
            "{'Name': 'Nitin', 'Age': 29, 'City': 'Jamnagar', 'Country': 'Sri Lanka'}\n"
          ]
        }
      ]
    },
    {
      "cell_type": "code",
      "source": [
        "#Ques 30:-  Write a code to convert a list of strings into a set.\n",
        "l2=[\"Nitin\",\"PW SKILLS\",\"DATA ANALYTICS\",\"DATA SCIENCE\"]\n",
        "l4=set(l2)\n",
        "print(l4)"
      ],
      "metadata": {
        "colab": {
          "base_uri": "https://localhost:8080/"
        },
        "id": "EBlYCvUEpl1k",
        "outputId": "13999992-d7fd-4d9a-b180-2d2b36f513d5"
      },
      "execution_count": 30,
      "outputs": [
        {
          "output_type": "stream",
          "name": "stdout",
          "text": [
            "{'DATA ANALYTICS', 'Nitin', 'PW SKILLS', 'DATA SCIENCE'}\n"
          ]
        }
      ]
    },
    {
      "cell_type": "code",
      "source": [],
      "metadata": {
        "id": "w7W3TKjOpoBV"
      },
      "execution_count": null,
      "outputs": []
    }
  ]
}